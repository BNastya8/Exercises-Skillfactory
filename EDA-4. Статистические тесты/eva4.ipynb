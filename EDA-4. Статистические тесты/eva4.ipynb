{
 "cells": [
  {
   "cell_type": "code",
   "execution_count": 95,
   "metadata": {},
   "outputs": [],
   "source": [
    "# Для работы с таблицами импортируем pandas\n",
    "import pandas as pd "
   ]
  },
  {
   "attachments": {},
   "cell_type": "markdown",
   "metadata": {},
   "source": [
    "**Задание:**\n",
    "Используя информацию по мидиям Петербурга и Магадана, которые представлены в виде двух массивов petersburg и magadan в разделе ANOVA-тест, проверьте данные на нормальность и на наличие корреляции.\n",
    "\n",
    "Для этого:\n",
    "Объедините два массива в DataFrame. \n",
    "Обоснуйте выбор теста на корреляцию. \n",
    "Сделайте вывод по гипотезе.\n",
    "Ответьте на вопрос: Какова разница в среднем размере мидии в зависимости от города-производителя\n",
    "Обоснуйте выбор теста. \n",
    "Сделайте вывод по гипотезе."
   ]
  },
  {
   "attachments": {},
   "cell_type": "markdown",
   "metadata": {},
   "source": [
    "**Работа с данными**"
   ]
  },
  {
   "cell_type": "code",
   "execution_count": 96,
   "metadata": {},
   "outputs": [],
   "source": [
    "# Данные с которыми работаем\n",
    "petersburg = [0.0974, 0.1352, 0.0817, 0.1016, 0.0968, 0.1064, 0.105]\n",
    "magadan = [0.1033, 0.0915, 0.0781, 0.0685, 0.0677, 0.0697, 0.0764,\n",
    "           0.0689]\n"
   ]
  },
  {
   "cell_type": "code",
   "execution_count": 97,
   "metadata": {},
   "outputs": [],
   "source": [
    "# Преобразуем данные в DataFrame и объединяем их\n",
    "Mussel_petersburg = pd.DataFrame(petersburg, columns = ['Mussels_Petersburg'])\n",
    "Mussel_magadan = pd.DataFrame(magadan, columns = ['Mussels_Magadan'])\n",
    "data = Mussel_petersburg.join(Mussel_magadan, how = 'outer')"
   ]
  },
  {
   "cell_type": "code",
   "execution_count": 98,
   "metadata": {},
   "outputs": [
    {
     "name": "stdout",
     "output_type": "stream",
     "text": [
      "   Mussels_Petersburg  Mussels_Magadan\n",
      "0              0.0974           0.1033\n",
      "1              0.1352           0.0915\n",
      "2              0.0817           0.0781\n",
      "3              0.1016           0.0685\n",
      "4              0.0968           0.0677\n",
      "5              0.1064           0.0697\n",
      "6              0.1050           0.0764\n",
      "7                 NaN           0.0689\n"
     ]
    }
   ],
   "source": [
    "# Смотрим как выглядит таблицы\n",
    "print(data)\n",
    "# Есть пропуск"
   ]
  },
  {
   "cell_type": "code",
   "execution_count": 99,
   "metadata": {},
   "outputs": [],
   "source": [
    "# Заполним пропуск в столбце Mussels_Petersburg медианной\n",
    "values = {'Mussels_Petersburg': data['Mussels_Petersburg'].median()}\n",
    "data = data.fillna(values)"
   ]
  },
  {
   "cell_type": "code",
   "execution_count": 102,
   "metadata": {},
   "outputs": [
    {
     "name": "stdout",
     "output_type": "stream",
     "text": [
      "   Mussels_Petersburg  Mussels_Magadan\n",
      "0              0.0974           0.1033\n",
      "1              0.1352           0.0915\n",
      "2              0.0817           0.0781\n",
      "3              0.1016           0.0685\n",
      "4              0.0968           0.0677\n",
      "5              0.1064           0.0697\n",
      "6              0.1050           0.0764\n",
      "7              0.1016           0.0689\n"
     ]
    }
   ],
   "source": [
    "# Смотрю как выглядит таблицы\n",
    "print(data)\n",
    "# Согласно здравому смыслу выбросов не вижу"
   ]
  },
  {
   "attachments": {},
   "cell_type": "markdown",
   "metadata": {},
   "source": [
    "Тест на нормальность Д’Агостино"
   ]
  },
  {
   "cell_type": "code",
   "execution_count": 101,
   "metadata": {},
   "outputs": [],
   "source": [
    "# Установливаем normaltest для определения нормального распределения\n",
    "from scipy.stats import normaltest\n",
    "\n",
    "# Установливаем гипотезы для нормальности\n",
    "H0 = 'Данные распределены нормально'\n",
    "Ha = 'Данные не распределены нормально'\n",
    "\n",
    "# Устанавливаем уровень значимости\n",
    "alpha = 0.05"
   ]
  },
  {
   "cell_type": "code",
   "execution_count": 61,
   "metadata": {},
   "outputs": [
    {
     "name": "stdout",
     "output_type": "stream",
     "text": [
      "p=0.035\n",
      "Данные распределены нормально\n"
     ]
    }
   ],
   "source": [
    "# Выполняю тест на нормальность\n",
    "_, p = normaltest(data)\n",
    "\n",
    "# Normaltest возвращает двустороннюю вероятность для проверки гипотезы\n",
    "print('p=%.3f' % p[0])\n",
    "\n",
    "# Интерпретация \n",
    "if p[0] > alpha/2:\n",
    "\tprint(H0)\n",
    "else:\n",
    "\tprint(Ha)"
   ]
  },
  {
   "attachments": {},
   "cell_type": "markdown",
   "metadata": {},
   "source": [
    "**Корреляция**"
   ]
  },
  {
   "attachments": {},
   "cell_type": "markdown",
   "metadata": {},
   "source": [
    "Выбрала тест на корреляцию **Спирмена**, так как у признаков нет линейной связи. Я не могу сказать, что \"С уменьшением/увеличением признака 1 уменьшается/увеличивается признак 2 в соответствии с некоторым уравнением прямой\". \n",
    "Иногда можно применять ранговую корреляцию для числовых переменных если между ними существует нелинейная связь. "
   ]
  },
  {
   "cell_type": "code",
   "execution_count": 109,
   "metadata": {},
   "outputs": [
    {
     "name": "stdout",
     "output_type": "stream",
     "text": [
      "0.712761707999163 > 0.05. Мы не можем отвергнуть нулевую гипотезу. Отсутсвует зависимость между переменными.\n"
     ]
    }
   ],
   "source": [
    "# Импортируем spearmanr\n",
    "from scipy.stats import spearmanr\n",
    "\n",
    "# Установливаем гипотезы для корреляции\n",
    "H0 = 'Отсутсвует зависимость между переменными.'\n",
    "Ha = 'Есть зависимость между переменными.'\n",
    "\n",
    "# Выполняем тест Спирмена\n",
    "corr, p = spearmanr(data)\n",
    "if p>alpha:\n",
    "    print(f'{p} > {alpha}. Мы не можем отвергнуть нулевую гипотезу. {H0}')\n",
    "else:\n",
    "    print(f'{p} <= {alpha}. Мы отвергаем нулевую гипотезу. {Ha}')"
   ]
  },
  {
   "attachments": {},
   "cell_type": "markdown",
   "metadata": {},
   "source": [
    "Вывод: Согласно тесту Спирмена мы не можем отвергнуть нулевую гипотезу. Между переменными отсутствует зависимость. Следовательно, эти данные не имеют взаимосвязи и не влияют друг на друга."
   ]
  },
  {
   "attachments": {},
   "cell_type": "markdown",
   "metadata": {},
   "source": [
    "**Какова разница в среднем размере мидии в зависимости от города-производителя**"
   ]
  },
  {
   "attachments": {},
   "cell_type": "markdown",
   "metadata": {},
   "source": [
    "Выбрала для сравнения тест T-тест, так как переменные у меня распределены нормально, тип зависимой переменной (размер мидии) является количественным. Так же у меня 2 группы сравнения и количество объектов меньше 30."
   ]
  },
  {
   "cell_type": "code",
   "execution_count": 108,
   "metadata": {},
   "outputs": [
    {
     "name": "stdout",
     "output_type": "stream",
     "text": [
      "0.003 <= 0.05. Мы отвергаем нулевую гипотезу. Есть значимая разница между средним размером раковины мидий в двух разных местах.\n"
     ]
    }
   ],
   "source": [
    "# Импортируем spearmanr\n",
    "from scipy.stats import ttest_ind\n",
    "\n",
    "# Установливаем гипотезы\n",
    "H0 = 'Нет значимой разницы между средним размером раковины мидий в двух разных местах.'\n",
    "Ha = 'Есть значимая разница между средним размером раковины мидий в двух разных местах.'\n",
    "\n",
    "# Т-тест\n",
    "def t_test(df):\n",
    "    test_results = ttest_ind(df['Mussels_Petersburg'], df['Mussels_Magadan'], equal_var=True)\n",
    "\n",
    "    p = round(test_results[1],3)\n",
    "\n",
    "    if p>alpha:\n",
    "        print(f'{p} > {alpha}. Мы не можем отвергнуть нулевую гипотезу. {H0}')\n",
    "    else:\n",
    "        print(f'{p} <= {alpha}. Мы отвергаем нулевую гипотезу. {Ha}')\n",
    "\n",
    "t_test(data)"
   ]
  },
  {
   "attachments": {},
   "cell_type": "markdown",
   "metadata": {},
   "source": [
    "Вывод: Согласно Т-тесту мы отвергаем нулевую гипотезу. Между средним размером раковины мидий в двух разных местах есть значимая разница. Следовательно, место добыче мидии влияет на размер раковины. Значит данная информация может помочь определить место, где лучше ловить мидии, после дополнительного анализа по их общему количеству в том месте, а также их безопасности для пищи."
   ]
  },
  {
   "cell_type": "code",
   "execution_count": 112,
   "metadata": {},
   "outputs": [
    {
     "name": "stdout",
     "output_type": "stream",
     "text": [
      "0.025\n"
     ]
    }
   ],
   "source": [
    "# Вычесляем разницу в среднем размере мидии в зависимости от города\n",
    "differ_mussels = round((data['Mussels_Petersburg'].mean() - data['Mussels_Magadan'].mean()),3)\n",
    "print(differ_mussels)"
   ]
  },
  {
   "attachments": {},
   "cell_type": "markdown",
   "metadata": {},
   "source": [
    "Какова разница в среднем размере мидии в зависимости от города-производителя?\n",
    "Согласно тесту разница значима. В среднем размер мидии в Питере на 0.025 больше чем в Магадане."
   ]
  }
 ],
 "metadata": {
  "kernelspec": {
   "display_name": "Python 3",
   "language": "python",
   "name": "python3"
  },
  "language_info": {
   "codemirror_mode": {
    "name": "ipython",
    "version": 3
   },
   "file_extension": ".py",
   "mimetype": "text/x-python",
   "name": "python",
   "nbconvert_exporter": "python",
   "pygments_lexer": "ipython3",
   "version": "3.10.7"
  },
  "orig_nbformat": 4
 },
 "nbformat": 4,
 "nbformat_minor": 2
}
